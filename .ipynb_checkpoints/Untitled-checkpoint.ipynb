{
 "cells": [
  {
   "cell_type": "code",
   "execution_count": 1,
   "id": "c21df76d-1244-4d5d-b32d-6533a10de0c6",
   "metadata": {},
   "outputs": [],
   "source": [
    "import os\n",
    "import numpy as np\n",
    "import tensorflow as tf\n",
    "from tensorflow.keras.preprocessing.image import ImageDataGenerator\n",
    "from tensorflow.keras import layers, models\n",
    "from tensorflow.keras.layers import Input\n",
    "from sklearn.model_selection import train_test_split\n",
    "#from tensorflow.keras.optimizers import Adam\n",
    "import cv2\n",
    "\n"
   ]
  },
  {
   "cell_type": "code",
   "execution_count": 3,
   "id": "229c2bbb-a4c3-4faf-9204-522d8f7820e6",
   "metadata": {},
   "outputs": [
    {
     "name": "stdout",
     "output_type": "stream",
     "text": [
      "Found 40 images belonging to 2 classes.\n",
      "Found 1 images belonging to 1 classes.\n"
     ]
    }
   ],
   "source": [
    "import os\n",
    "import numpy as np\n",
    "import tensorflow as tf\n",
    "from tensorflow.keras.preprocessing.image import ImageDataGenerator\n",
    "from sklearn.model_selection import train_test_split\n",
    "\n",
    "# Define paths\n",
    "base_dir = 'train/'\n",
    "with_label_dir = os.path.join(base_dir, 'with_label')\n",
    "clean_dir = os.path.join(with_label_dir, 'clean')\n",
    "dirty_dir = os.path.join(with_label_dir, 'dirty')\n",
    "no_label_dir = os.path.join(base_dir, 'no_label')\n",
    "\n",
    "# Parameters\n",
    "IMG_HEIGHT, IMG_WIDTH = 150, 150\n",
    "BATCH_SIZE = 32\n",
    "\n",
    "# Create data generators\n",
    "def create_data_generators():\n",
    "    # Generating labeled data\n",
    "    labeled_datagen = ImageDataGenerator(rescale=1./255)\n",
    "    labeled_generator = labeled_datagen.flow_from_directory(\n",
    "        with_label_dir,\n",
    "        target_size=(IMG_HEIGHT, IMG_WIDTH),\n",
    "        batch_size=BATCH_SIZE,\n",
    "        class_mode='binary',\n",
    "        shuffle=True\n",
    "    )\n",
    "    \n",
    "    # Generating unlabeled data (for potential use in training)\n",
    "    unlabeled_datagen = ImageDataGenerator(rescale=1./255)\n",
    "    unlabeled_generator = unlabeled_datagen.flow_from_directory(\n",
    "        no_label_dir,\n",
    "        target_size=(IMG_HEIGHT, IMG_WIDTH),\n",
    "        batch_size=BATCH_SIZE,\n",
    "        class_mode=None,\n",
    "        shuffle=False\n",
    "    )\n",
    "    \n",
    "    return labeled_generator, unlabeled_generator\n",
    "\n",
    "labeled_generator, unlabeled_generator = create_data_generators()"
   ]
  },
  {
   "cell_type": "code",
   "execution_count": 36,
   "id": "9816615d-1760-4de9-96c9-7a2e556bf034",
   "metadata": {},
   "outputs": [],
   "source": [
    "\n",
    "\n",
    "# Define image dimensions\n",
    "IMG_HEIGHT = 150  # Example height\n",
    "IMG_WIDTH = 150   # Example width\n",
    "\n",
    "def create_model():\n",
    "    model = tf.keras.Sequential([\n",
    "        tf.keras.layers.Input(shape=(IMG_HEIGHT, IMG_WIDTH, 3)),  # Input layer explicitly defined\n",
    "        tf.keras.layers.Conv2D(32, (3, 3), activation='relu'),\n",
    "        tf.keras.layers.MaxPooling2D(pool_size=(2, 2)),\n",
    "        tf.keras.layers.Conv2D(64, (3, 3), activation='relu'),\n",
    "        tf.keras.layers.MaxPooling2D(pool_size=(2, 2)),\n",
    "        tf.keras.layers.Conv2D(128, (3, 3), activation='relu'),\n",
    "        tf.keras.layers.MaxPooling2D(pool_size=(2, 2)),\n",
    "        tf.keras.layers.Flatten(),\n",
    "        tf.keras.layers.Dense(128, activation='relu'),\n",
    "        tf.keras.layers.Dense(1, activation='sigmoid')  # Binary classification\n",
    "    ])\n",
    "    \n",
    "    model.compile(optimizer='adam',\n",
    "                  loss='binary_crossentropy',\n",
    "                  metrics=['accuracy'])\n",
    "    \n",
    "    return model\n",
    "\n",
    "model = create_model()\n"
   ]
  },
  {
   "cell_type": "code",
   "execution_count": 7,
   "id": "d9b55aaf-10ef-486c-852b-ffe51cd3ea6e",
   "metadata": {},
   "outputs": [],
   "source": [
    "def train_model(model, labeled_generator):\n",
    "    steps_per_epoch = labeled_generator.samples // BATCH_SIZE\n",
    "    model.fit(labeled_generator, steps_per_epoch=steps_per_epoch, epochs=10)\n"
   ]
  },
  {
   "cell_type": "code",
   "execution_count": 8,
   "id": "89a92306-5dea-4ce2-9640-b721036b8d46",
   "metadata": {},
   "outputs": [],
   "source": [
    "def train_model(model, labeled_generator):\n",
    "    steps_per_epoch = labeled_generator.samples // BATCH_SIZE\n",
    "    model.fit(labeled_generator, steps_per_epoch=steps_per_epoch, epochs=10)\n"
   ]
  },
  {
   "cell_type": "code",
   "execution_count": 11,
   "id": "a5347df5-2736-47b2-9198-c016a8d61624",
   "metadata": {},
   "outputs": [
    {
     "name": "stdout",
     "output_type": "stream",
     "text": [
      "Found 100 images belonging to 1 classes.\n",
      "\u001b[1m4/4\u001b[0m \u001b[32m━━━━━━━━━━━━━━━━━━━━\u001b[0m\u001b[37m\u001b[0m \u001b[1m1s\u001b[0m 165ms/step\n"
     ]
    }
   ],
   "source": [
    "def evaluate_model(model):\n",
    "    test_datagen = ImageDataGenerator(rescale=1./255)\n",
    "    test_generator = test_datagen.flow_from_directory(\n",
    "        'test/',\n",
    "        target_size=(IMG_HEIGHT, IMG_WIDTH),\n",
    "        batch_size=BATCH_SIZE,\n",
    "        class_mode=None,\n",
    "        shuffle=False\n",
    "    )\n",
    "    \n",
    "    predictions = model.predict(test_generator)\n",
    "    predicted_classes = np.where(predictions > 0.5, 1, 0)\n",
    "\n",
    "    # You can save these predictions or evaluate them further\n",
    "    return predicted_classes\n",
    "\n",
    "predicted_classes = evaluate_model(model)\n"
   ]
  },
  {
   "cell_type": "code",
   "execution_count": 13,
   "id": "d2840f75-6ac2-439e-bb1e-511111a9b0ea",
   "metadata": {},
   "outputs": [],
   "source": [
    "model.save('classification_poubelle.keras')"
   ]
  },
  {
   "cell_type": "code",
   "execution_count": 16,
   "id": "fa269dd4-cbec-4014-b549-d2efb52fad5a",
   "metadata": {},
   "outputs": [
    {
     "name": "stdout",
     "output_type": "stream",
     "text": [
      "INFO:tensorflow:Assets written to: C:\\Users\\USER\\AppData\\Local\\Temp\\tmp94y_7oju\\assets\n"
     ]
    },
    {
     "name": "stderr",
     "output_type": "stream",
     "text": [
      "INFO:tensorflow:Assets written to: C:\\Users\\USER\\AppData\\Local\\Temp\\tmp94y_7oju\\assets\n"
     ]
    },
    {
     "name": "stdout",
     "output_type": "stream",
     "text": [
      "Saved artifact at 'C:\\Users\\USER\\AppData\\Local\\Temp\\tmp94y_7oju'. The following endpoints are available:\n",
      "\n",
      "* Endpoint 'serve'\n",
      "  args_0 (POSITIONAL_ONLY): TensorSpec(shape=(None, 224, 224, 3), dtype=tf.float32, name='keras_tensor_10')\n",
      "Output Type:\n",
      "  TensorSpec(shape=(None, 1), dtype=tf.float32, name=None)\n",
      "Captures:\n",
      "  1564373843808: TensorSpec(shape=(), dtype=tf.resource, name=None)\n",
      "  1564373860592: TensorSpec(shape=(), dtype=tf.resource, name=None)\n",
      "  1564373864288: TensorSpec(shape=(), dtype=tf.resource, name=None)\n",
      "  1564373863936: TensorSpec(shape=(), dtype=tf.resource, name=None)\n",
      "  1564373882656: TensorSpec(shape=(), dtype=tf.resource, name=None)\n",
      "  1564373882480: TensorSpec(shape=(), dtype=tf.resource, name=None)\n",
      "  1564373884768: TensorSpec(shape=(), dtype=tf.resource, name=None)\n",
      "  1564373893184: TensorSpec(shape=(), dtype=tf.resource, name=None)\n",
      "  1564373894768: TensorSpec(shape=(), dtype=tf.resource, name=None)\n",
      "  1564373894592: TensorSpec(shape=(), dtype=tf.resource, name=None)\n"
     ]
    }
   ],
   "source": [
    "\n",
    "converter = tf.lite.TFLiteConverter.from_keras_model(model)\n",
    "tflite_model = converter.convert()\n",
    "\n",
    "# Save the TFLite model\n",
    "with open('classification_poubelle.tflite', 'wb') as f:\n",
    "    f.write(tflite_model)"
   ]
  },
  {
   "cell_type": "code",
   "execution_count": 23,
   "id": "ae964698-b8dc-4ea6-bc30-fb43e879c203",
   "metadata": {},
   "outputs": [
    {
     "name": "stdout",
     "output_type": "stream",
     "text": [
      "Found 601 images belonging to 2 classes.\n",
      "Found 100 images belonging to 1 classes.\n",
      "Epoch 1/10\n",
      "\u001b[1m18/18\u001b[0m \u001b[32m━━━━━━━━━━━━━━━━━━━━\u001b[0m\u001b[37m\u001b[0m \u001b[1m11s\u001b[0m 552ms/step - accuracy: 0.8879 - loss: 0.7603 - val_accuracy: 1.0000 - val_loss: 0.0308\n",
      "Epoch 2/10\n",
      "\u001b[1m 1/18\u001b[0m \u001b[32m━\u001b[0m\u001b[37m━━━━━━━━━━━━━━━━━━━\u001b[0m \u001b[1m3s\u001b[0m 191ms/step - accuracy: 0.9375 - loss: 0.2478"
     ]
    },
    {
     "name": "stderr",
     "output_type": "stream",
     "text": [
      "C:\\Users\\USER\\AppData\\Roaming\\Python\\Python39\\site-packages\\keras\\src\\trainers\\epoch_iterator.py:107: UserWarning: Your input ran out of data; interrupting training. Make sure that your dataset or generator can generate at least `steps_per_epoch * epochs` batches. You may need to use the `.repeat()` function when building your dataset.\n",
      "  self._interrupted_warning()\n"
     ]
    },
    {
     "name": "stdout",
     "output_type": "stream",
     "text": [
      "\u001b[1m18/18\u001b[0m \u001b[32m━━━━━━━━━━━━━━━━━━━━\u001b[0m\u001b[37m\u001b[0m \u001b[1m1s\u001b[0m 56ms/step - accuracy: 0.9375 - loss: 0.2478 - val_accuracy: 1.0000 - val_loss: 0.0385\n",
      "Epoch 3/10\n",
      "\u001b[1m18/18\u001b[0m \u001b[32m━━━━━━━━━━━━━━━━━━━━\u001b[0m\u001b[37m\u001b[0m \u001b[1m9s\u001b[0m 501ms/step - accuracy: 0.9512 - loss: 0.2122 - val_accuracy: 1.0000 - val_loss: 0.1158\n",
      "Epoch 4/10\n",
      "\u001b[1m18/18\u001b[0m \u001b[32m━━━━━━━━━━━━━━━━━━━━\u001b[0m\u001b[37m\u001b[0m \u001b[1m1s\u001b[0m 50ms/step - accuracy: 0.9375 - loss: 0.2430 - val_accuracy: 1.0000 - val_loss: 0.1413\n",
      "Epoch 5/10\n",
      "\u001b[1m18/18\u001b[0m \u001b[32m━━━━━━━━━━━━━━━━━━━━\u001b[0m\u001b[37m\u001b[0m \u001b[1m9s\u001b[0m 520ms/step - accuracy: 0.9327 - loss: 0.2683 - val_accuracy: 1.0000 - val_loss: 0.1085\n",
      "Epoch 6/10\n",
      "\u001b[1m18/18\u001b[0m \u001b[32m━━━━━━━━━━━━━━━━━━━━\u001b[0m\u001b[37m\u001b[0m \u001b[1m1s\u001b[0m 52ms/step - accuracy: 1.0000 - loss: 0.1186 - val_accuracy: 1.0000 - val_loss: 0.1249\n",
      "Epoch 7/10\n",
      "\u001b[1m18/18\u001b[0m \u001b[32m━━━━━━━━━━━━━━━━━━━━\u001b[0m\u001b[37m\u001b[0m \u001b[1m9s\u001b[0m 523ms/step - accuracy: 0.9404 - loss: 0.2501 - val_accuracy: 1.0000 - val_loss: 0.0620\n",
      "Epoch 8/10\n",
      "\u001b[1m18/18\u001b[0m \u001b[32m━━━━━━━━━━━━━━━━━━━━\u001b[0m\u001b[37m\u001b[0m \u001b[1m1s\u001b[0m 48ms/step - accuracy: 0.9688 - loss: 0.1603 - val_accuracy: 1.0000 - val_loss: 0.0589\n",
      "Epoch 9/10\n",
      "\u001b[1m18/18\u001b[0m \u001b[32m━━━━━━━━━━━━━━━━━━━━\u001b[0m\u001b[37m\u001b[0m \u001b[1m10s\u001b[0m 541ms/step - accuracy: 0.9346 - loss: 0.2455 - val_accuracy: 1.0000 - val_loss: 0.0201\n",
      "Epoch 10/10\n",
      "\u001b[1m18/18\u001b[0m \u001b[32m━━━━━━━━━━━━━━━━━━━━\u001b[0m\u001b[37m\u001b[0m \u001b[1m1s\u001b[0m 48ms/step - accuracy: 0.9062 - loss: 0.3558 - val_accuracy: 1.0000 - val_loss: 0.0257\n"
     ]
    },
    {
     "name": "stderr",
     "output_type": "stream",
     "text": [
      "WARNING:absl:You are saving your model as an HDF5 file via `model.save()` or `keras.saving.save_model(model)`. This file format is considered legacy. We recommend using instead the native Keras format, e.g. `model.save('my_model.keras')` or `keras.saving.save_model(model, 'my_model.keras')`. \n"
     ]
    },
    {
     "data": {
      "image/png": "[encoded data removed]",
      "text/plain": [
       "<Figure size 640x480 with 1 Axes>"
      ]
     },
     "metadata": {},
     "output_type": "display_data"
    }
   ],
   "source": [
    "import os\n",
    "import numpy as np\n",
    "import tensorflow as tf\n",
    "from tensorflow.keras.preprocessing.image import ImageDataGenerator\n",
    "from tensorflow.keras import layers, models\n",
    "import matplotlib.pyplot as plt\n",
    "\n",
    "# Set directories for training and testing data\n",
    "base_dir = 'C:/Users/USER/Desktop/app.Mobile/'  # Update this to your dataset path\n",
    "train_dir = os.path.join(base_dir, 'train')\n",
    "test_dir = os.path.join(base_dir, 'test')\n",
    "\n",
    "# Set parameters\n",
    "img_height, img_width = 150, 150  # Image dimensions\n",
    "batch_size = 32  # Number of images to process in a batch\n",
    "\n",
    "# Data augmentation for training dataset\n",
    "train_datagen = ImageDataGenerator(\n",
    "    rescale=1./255,\n",
    "    rotation_range=40,\n",
    "    width_shift_range=0.2,\n",
    "    height_shift_range=0.2,\n",
    "    shear_range=0.2,\n",
    "    zoom_range=0.2,\n",
    "    horizontal_flip=True,\n",
    "    fill_mode='nearest'\n",
    ")\n",
    "\n",
    "# Data generator for training with labels\n",
    "train_generator = train_datagen.flow_from_directory(\n",
    "    train_dir,\n",
    "    target_size=(img_height, img_width),\n",
    "    batch_size=batch_size,\n",
    "    class_mode='binary'  # Binary classification: clean vs dirty\n",
    ")\n",
    "\n",
    "# Data generator for testing dataset\n",
    "test_datagen = ImageDataGenerator(rescale=1./255)\n",
    "\n",
    "test_generator = test_datagen.flow_from_directory(\n",
    "    test_dir,\n",
    "    target_size=(img_height, img_width),\n",
    "    batch_size=batch_size,\n",
    "    class_mode='binary',  # Binary classification for test data\n",
    "    shuffle=False  # Important for evaluation\n",
    ")\n",
    "\n",
    "# Build the CNN model\n",
    "model = models.Sequential([\n",
    "    layers.Conv2D(32, (3, 3), activation='relu', input_shape=(img_height, img_width, 3)),\n",
    "    layers.MaxPooling2D(pool_size=(2, 2)),\n",
    "    layers.Conv2D(64, (3, 3), activation='relu'),\n",
    "    layers.MaxPooling2D(pool_size=(2, 2)),\n",
    "    layers.Conv2D(128, (3, 3), activation='relu'),\n",
    "    layers.MaxPooling2D(pool_size=(2, 2)),\n",
    "    layers.Flatten(),\n",
    "    layers.Dense(512, activation='relu'),\n",
    "    layers.Dense(1, activation='sigmoid')  # Output layer for binary classification\n",
    "])\n",
    "\n",
    "# Compile the model\n",
    "model.compile(loss='binary_crossentropy',\n",
    "              optimizer='adam',\n",
    "              metrics=['accuracy'])\n",
    "\n",
    "# Train the model\n",
    "history = model.fit(train_generator, \n",
    "                    steps_per_epoch=train_generator.samples // batch_size,\n",
    "                    epochs=10,  # You can increase epochs for better accuracy\n",
    "                    validation_data=test_generator,\n",
    "                    validation_steps=test_generator.samples // batch_size)\n",
    "\n",
    "# Save the model\n",
    "model.save('trash_bin_classifier.h5')\n",
    "\n",
    "# Plot training history\n",
    "plt.plot(history.history['accuracy'], label='accuracy')\n",
    "plt.plot(history.history['val_accuracy'], label='val_accuracy')\n",
    "plt.xlabel('Epoch')\n",
    "plt.ylabel('Accuracy')\n",
    "plt.ylim([0, 1])\n",
    "plt.legend(loc='lower right')\n",
    "plt.title('Model Accuracy')\n",
    "plt.show()\n"
   ]
  },
  {
   "cell_type": "code",
   "execution_count": 38,
   "id": "4b13decd-f16a-4cde-8600-c2172eabafdd",
   "metadata": {},
   "outputs": [],
   "source": [
    "import cv2\n",
    "import numpy as np\n",
    "\n",
    "# Preprocess the image to match model's input size\n",
    "def load_and_preprocess_image(image_path, target_size=(150, 150)):\n",
    "    img = cv2.imread(image_path)\n",
    "    \n",
    "    if img is None:\n",
    "        print(f\"Error: {image_path} is not a valid image.\")\n",
    "        return None\n",
    "\n",
    "    # Resize image to target size\n",
    "    img = cv2.resize(img, target_size)\n",
    "\n",
    "    # Normalize the image to [0, 1]\n",
    "    img = img / 255.0\n",
    "\n",
    "    # Reshape the image to add a batch dimension\n",
    "    img = np.expand_dims(img, axis=0)  # shape will be (1, 150, 150, 3)\n",
    "    \n",
    "    return img\n"
   ]
  },
  {
   "cell_type": "code",
   "execution_count": 45,
   "id": "d85833f9-d03a-4bf7-aaae-b30b36b3cc1e",
   "metadata": {},
   "outputs": [
    {
     "name": "stdout",
     "output_type": "stream",
     "text": [
      "\u001b[1m1/1\u001b[0m \u001b[32m━━━━━━━━━━━━━━━━━━━━\u001b[0m\u001b[37m\u001b[0m \u001b[1m0s\u001b[0m 20ms/step\n",
      "L'image 00204_00.jpg est classée comme 'dirty'.\n",
      "\u001b[1m1/1\u001b[0m \u001b[32m━━━━━━━━━━━━━━━━━━━━\u001b[0m\u001b[37m\u001b[0m \u001b[1m0s\u001b[0m 37ms/step\n",
      "L'image 00207_03.jpg est classée comme 'dirty'.\n",
      "\u001b[1m1/1\u001b[0m \u001b[32m━━━━━━━━━━━━━━━━━━━━\u001b[0m\u001b[37m\u001b[0m \u001b[1m0s\u001b[0m 26ms/step\n",
      "L'image 00217_05.jpg est classée comme 'dirty'.\n",
      "\u001b[1m1/1\u001b[0m \u001b[32m━━━━━━━━━━━━━━━━━━━━\u001b[0m\u001b[37m\u001b[0m \u001b[1m0s\u001b[0m 40ms/step\n",
      "L'image 00517_04.jpg est classée comme 'dirty'.\n",
      "\u001b[1m1/1\u001b[0m \u001b[32m━━━━━━━━━━━━━━━━━━━━\u001b[0m\u001b[37m\u001b[0m \u001b[1m0s\u001b[0m 42ms/step\n",
      "L'image 00543_02.jpg est classée comme 'dirty'.\n",
      "\u001b[1m1/1\u001b[0m \u001b[32m━━━━━━━━━━━━━━━━━━━━\u001b[0m\u001b[37m\u001b[0m \u001b[1m0s\u001b[0m 33ms/step\n",
      "L'image 00547_06.jpg est classée comme 'dirty'.\n",
      "\u001b[1m1/1\u001b[0m \u001b[32m━━━━━━━━━━━━━━━━━━━━\u001b[0m\u001b[37m\u001b[0m \u001b[1m0s\u001b[0m 30ms/step\n",
      "L'image 00566_03.jpg est classée comme 'dirty'.\n",
      "\u001b[1m1/1\u001b[0m \u001b[32m━━━━━━━━━━━━━━━━━━━━\u001b[0m\u001b[37m\u001b[0m \u001b[1m0s\u001b[0m 37ms/step\n",
      "L'image 0e02598e-acbb-423e-912e-cf2b922b5bd7.jpeg est classée comme 'dirty'.\n",
      "\u001b[1m1/1\u001b[0m \u001b[32m━━━━━━━━━━━━━━━━━━━━\u001b[0m\u001b[37m\u001b[0m \u001b[1m0s\u001b[0m 44ms/step\n",
      "L'image 3f53a459-b46f-4e87-90ac-f9e43cc23320.jpeg est classée comme 'dirty'.\n",
      "\u001b[1m1/1\u001b[0m \u001b[32m━━━━━━━━━━━━━━━━━━━━\u001b[0m\u001b[37m\u001b[0m \u001b[1m0s\u001b[0m 49ms/step\n",
      "L'image 401.full.jpeg est classée comme 'dirty'.\n",
      "\u001b[1m1/1\u001b[0m \u001b[32m━━━━━━━━━━━━━━━━━━━━\u001b[0m\u001b[37m\u001b[0m \u001b[1m0s\u001b[0m 44ms/step\n",
      "L'image 86cd7cf4-726f-40c5-9788-89c890be3914.jpeg est classée comme 'dirty'.\n",
      "\u001b[1m1/1\u001b[0m \u001b[32m━━━━━━━━━━━━━━━━━━━━\u001b[0m\u001b[37m\u001b[0m \u001b[1m0s\u001b[0m 28ms/step\n",
      "L'image WhatsApp Image 2020-05-09 at 2.03.37 PM (6).jpeg est classée comme 'dirty'.\n",
      "\u001b[1m1/1\u001b[0m \u001b[32m━━━━━━━━━━━━━━━━━━━━\u001b[0m\u001b[37m\u001b[0m \u001b[1m0s\u001b[0m 33ms/step\n",
      "L'image WhatsApp Image 2020-05-09 at 2.03.38 PM (1).jpeg est classée comme 'dirty'.\n",
      "\u001b[1m1/1\u001b[0m \u001b[32m━━━━━━━━━━━━━━━━━━━━\u001b[0m\u001b[37m\u001b[0m \u001b[1m0s\u001b[0m 47ms/step\n",
      "L'image WhatsApp Image 2020-05-09 at 2.03.38 PM (3).jpeg est classée comme 'dirty'.\n",
      "\u001b[1m1/1\u001b[0m \u001b[32m━━━━━━━━━━━━━━━━━━━━\u001b[0m\u001b[37m\u001b[0m \u001b[1m0s\u001b[0m 54ms/step\n",
      "L'image WhatsApp Image 2020-05-09 at 2.08.14 PM (6).jpeg est classée comme 'dirty'.\n",
      "\u001b[1m1/1\u001b[0m \u001b[32m━━━━━━━━━━━━━━━━━━━━\u001b[0m\u001b[37m\u001b[0m \u001b[1m0s\u001b[0m 28ms/step\n",
      "L'image WhatsApp Image 2020-05-09 at 2.08.14 PM.jpeg est classée comme 'dirty'.\n",
      "\u001b[1m1/1\u001b[0m \u001b[32m━━━━━━━━━━━━━━━━━━━━\u001b[0m\u001b[37m\u001b[0m \u001b[1m0s\u001b[0m 39ms/step\n",
      "L'image WhatsApp Image 2020-05-09 at 2.08.15 PM (2).jpeg est classée comme 'dirty'.\n",
      "\u001b[1m1/1\u001b[0m \u001b[32m━━━━━━━━━━━━━━━━━━━━\u001b[0m\u001b[37m\u001b[0m \u001b[1m0s\u001b[0m 27ms/step\n",
      "L'image WhatsApp Image 2020-05-09 at 3.57.59 PM.jpeg est classée comme 'dirty'.\n",
      "\u001b[1m1/1\u001b[0m \u001b[32m━━━━━━━━━━━━━━━━━━━━\u001b[0m\u001b[37m\u001b[0m \u001b[1m0s\u001b[0m 44ms/step\n",
      "L'image WhatsApp Image 2020-05-09 at 9.56.49 AM (2).jpeg est classée comme 'dirty'.\n",
      "\u001b[1m1/1\u001b[0m \u001b[32m━━━━━━━━━━━━━━━━━━━━\u001b[0m\u001b[37m\u001b[0m \u001b[1m0s\u001b[0m 20ms/step\n",
      "L'image WhatsApp Image 2020-10-04 at 10.35.23 AM (6).jpeg est classée comme 'dirty'.\n"
     ]
    }
   ],
   "source": [
    "import os\n",
    "\n",
    "# Dossier contenant vos images non étiquetées\n",
    "image_folder = 'C:/Users/USER/Desktop/app.Mobile/train/with_label/clean'  # Remplacez par votre chemin\n",
    "\n",
    "# Liste des fichiers dans le dossier\n",
    "image_files = os.listdir(image_folder)\n",
    "\n",
    "for image_file in image_files:\n",
    "    image_path = os.path.join(image_folder, image_file)\n",
    "    \n",
    "    # Charger et prétraiter l'image\n",
    "    img = load_and_preprocess_image(image_path)\n",
    "\n",
    "    if img is not None:\n",
    "        # Faire la prédiction\n",
    "        prediction = model.predict(img)\n",
    "\n",
    "        # Afficher la prédiction pour chaque image\n",
    "        if prediction[0] > 0.5:\n",
    "            print(f\"L'image {image_file} est classée comme 'dirty'.\")\n",
    "        else:\n",
    "            print(f\"L'image {image_file} est classée comme 'clean'.\")\n"
   ]
  },
  {
   "cell_type": "code",
   "execution_count": 43,
   "id": "66da8176-96b2-45e9-983c-66b22f3b0f64",
   "metadata": {},
   "outputs": [
    {
     "data": {
      "image/png": "[encoded data removed]",
      "text/plain": [
       "<Figure size 640x480 with 1 Axes>"
      ]
     },
     "metadata": {},
     "output_type": "display_data"
    },
    {
     "data": {
      "image/png": "[encoded data removed]",
      "text/plain": [
       "<Figure size 640x480 with 1 Axes>"
      ]
     },
     "metadata": {},
     "output_type": "display_data"
    }
   ],
   "source": [
    "import matplotlib.pyplot as plt\n",
    "\n",
    "# Accéder à l'historique de l'entraînement\n",
    "history_dict = history.history\n",
    "accuracy = history_dict['accuracy']\n",
    "val_accuracy = history_dict['val_accuracy']\n",
    "loss = history_dict['loss']\n",
    "val_loss = history_dict['val_loss']\n",
    "\n",
    "# Tracer la courbe de précision\n",
    "plt.plot(range(1, len(accuracy)+1), accuracy, label='Précision (train)')\n",
    "plt.plot(range(1, len(val_accuracy)+1), val_accuracy, label='Précision (val)')\n",
    "plt.title('Précision d\\'entrainement et de validation')\n",
    "plt.xlabel('Epochs')\n",
    "plt.ylabel('Précision')\n",
    "plt.legend()\n",
    "\n",
    "# Tracer la courbe de perte\n",
    "plt.figure()\n",
    "plt.plot(range(1, len(loss)+1), loss, label='Perte (train)')\n",
    "plt.plot(range(1, len(val_loss)+1), val_loss, label='Perte (val)')\n",
    "plt.title('Perte d\\'entrainement et de validation')\n",
    "plt.xlabel('Epochs')\n",
    "plt.ylabel('Perte')\n",
    "plt.legend()\n",
    "\n",
    "plt.show()"
   ]
  },
  {
   "cell_type": "code",
   "execution_count": 46,
   "id": "af96ec03-9267-4011-9b62-bcc40849c67e",
   "metadata": {},
   "outputs": [
    {
     "name": "stdout",
     "output_type": "stream",
     "text": [
      "Found 0 images belonging to 0 classes.\n",
      "Found 0 images belonging to 0 classes.\n"
     ]
    },
    {
     "ename": "ValueError",
     "evalue": "need at least one array to concatenate",
     "output_type": "error",
     "traceback": [
      "\u001b[1;31m---------------------------------------------------------------------------\u001b[0m",
      "\u001b[1;31mValueError\u001b[0m                                Traceback (most recent call last)",
      "Cell \u001b[1;32mIn[46], line 42\u001b[0m\n\u001b[0;32m     39\u001b[0m         train_images\u001b[38;5;241m.\u001b[39mappend(img)\n\u001b[0;32m     40\u001b[0m         train_labels\u001b[38;5;241m.\u001b[39mappend(label)\n\u001b[1;32m---> 42\u001b[0m train_images \u001b[38;5;241m=\u001b[39m \u001b[43mnp\u001b[49m\u001b[38;5;241;43m.\u001b[39;49m\u001b[43mvstack\u001b[49m\u001b[43m(\u001b[49m\u001b[43mtrain_images\u001b[49m\u001b[43m)\u001b[49m\n\u001b[0;32m     43\u001b[0m train_labels \u001b[38;5;241m=\u001b[39m np\u001b[38;5;241m.\u001b[39mhstack(train_labels)\n\u001b[0;32m     45\u001b[0m \u001b[38;5;66;03m# Use unlabeled data to augment the dataset\u001b[39;00m\n",
      "File \u001b[1;32m~\\AppData\\Roaming\\Python\\Python39\\site-packages\\numpy\\_core\\shape_base.py:287\u001b[0m, in \u001b[0;36mvstack\u001b[1;34m(tup, dtype, casting)\u001b[0m\n\u001b[0;32m    285\u001b[0m \u001b[38;5;28;01mif\u001b[39;00m \u001b[38;5;129;01mnot\u001b[39;00m \u001b[38;5;28misinstance\u001b[39m(arrs, \u001b[38;5;28mtuple\u001b[39m):\n\u001b[0;32m    286\u001b[0m     arrs \u001b[38;5;241m=\u001b[39m (arrs,)\n\u001b[1;32m--> 287\u001b[0m \u001b[38;5;28;01mreturn\u001b[39;00m \u001b[43m_nx\u001b[49m\u001b[38;5;241;43m.\u001b[39;49m\u001b[43mconcatenate\u001b[49m\u001b[43m(\u001b[49m\u001b[43marrs\u001b[49m\u001b[43m,\u001b[49m\u001b[43m \u001b[49m\u001b[38;5;241;43m0\u001b[39;49m\u001b[43m,\u001b[49m\u001b[43m \u001b[49m\u001b[43mdtype\u001b[49m\u001b[38;5;241;43m=\u001b[39;49m\u001b[43mdtype\u001b[49m\u001b[43m,\u001b[49m\u001b[43m \u001b[49m\u001b[43mcasting\u001b[49m\u001b[38;5;241;43m=\u001b[39;49m\u001b[43mcasting\u001b[49m\u001b[43m)\u001b[49m\n",
      "\u001b[1;31mValueError\u001b[0m: need at least one array to concatenate"
     ]
    }
   ],
   "source": [
    "import os\n",
    "import numpy as np\n",
    "import tensorflow as tf\n",
    "from tensorflow.keras.preprocessing.image import ImageDataGenerator\n",
    "from tensorflow.keras.models import Sequential\n",
    "from tensorflow.keras.layers import Conv2D, MaxPooling2D, Flatten, Dense, Dropout\n",
    "from sklearn.model_selection import train_test_split\n",
    "\n",
    "# Define paths\n",
    "train_with_label_clean = 'C:/Users/USER/Desktop/app.Mobile/train/with_label/clean'\n",
    "train_with_label_dirty = 'C:/Users/USER/Desktop/app.Mobile/train/with_label/dirty'\n",
    "train_no_label = 'C:/Users/USER/Desktop/app.Mobile/train/no_label'\n",
    "test_data_path = 'C:/Users/USER/Desktop/app.Mobile/test/'\n",
    "\n",
    "# Image parameters\n",
    "img_height, img_width = 150, 150\n",
    "batch_size = 32\n",
    "\n",
    "# Data generators\n",
    "train_datagen = ImageDataGenerator(rescale=1./255)\n",
    "train_generator_clean = train_datagen.flow_from_directory(\n",
    "    train_with_label_clean,\n",
    "    target_size=(img_height, img_width),\n",
    "    batch_size=batch_size,\n",
    "    class_mode='binary'\n",
    ")\n",
    "train_generator_dirty = train_datagen.flow_from_directory(\n",
    "    train_with_label_dirty,\n",
    "    target_size=(img_height, img_width),\n",
    "    batch_size=batch_size,\n",
    "    class_mode='binary'\n",
    ")\n",
    "\n",
    "# Combine labeled data\n",
    "train_images, train_labels = [], []\n",
    "for data in [train_generator_clean, train_generator_dirty]:\n",
    "    for _ in range(len(data)):\n",
    "        img, label = data.next()\n",
    "        train_images.append(img)\n",
    "        train_labels.append(label)\n",
    "\n",
    "train_images = np.vstack(train_images)\n",
    "train_labels = np.hstack(train_labels)\n",
    "\n",
    "# Use unlabeled data to augment the dataset\n",
    "unlabeled_datagen = ImageDataGenerator(rescale=1./255)\n",
    "unlabeled_generator = unlabeled_datagen.flow_from_directory(\n",
    "    train_no_label,\n",
    "    target_size=(img_height, img_width),\n",
    "    batch_size=batch_size,\n",
    "    class_mode=None,\n",
    "    shuffle=False\n",
    ")\n",
    "\n",
    "# Augment the dataset with unlabeled images\n",
    "for _ in range(len(unlabeled_generator)):\n",
    "    img = unlabeled_generator.next()\n",
    "    train_images = np.vstack((train_images, img))\n",
    "\n",
    "# Split the dataset into training and validation sets\n",
    "X_train, X_val, y_train, y_val = train_test_split(train_images, train_labels, test_size=0.2, random_state=42)\n",
    "\n",
    "# Build the model\n",
    "model = Sequential([\n",
    "    Conv2D(32, (3, 3), activation='relu', input_shape=(img_height, img_width, 3)),\n",
    "    MaxPooling2D(pool_size=(2, 2)),\n",
    "    Conv2D(64, (3, 3), activation='relu'),\n",
    "    MaxPooling2D(pool_size=(2, 2)),\n",
    "    Conv2D(128, (3, 3), activation='relu'),\n",
    "    MaxPooling2D(pool_size=(2, 2)),\n",
    "    Flatten(),\n",
    "    Dense(128, activation='relu'),\n",
    "    Dropout(0.5),\n",
    "    Dense(1, activation='sigmoid')\n",
    "])\n",
    "\n",
    "# Compile the model\n",
    "model.compile(optimizer='adam', loss='binary_crossentropy', metrics=['accuracy'])\n",
    "\n",
    "# Train the model\n",
    "model.fit(X_train, y_train, validation_data=(X_val, y_val), epochs=10, batch_size=batch_size)\n",
    "\n",
    "# Save the model\n",
    "model.save('waste_classifier_model.h5')\n",
    "\n",
    "# Load and evaluate the model on test data\n",
    "test_datagen = ImageDataGenerator(rescale=1./255)\n",
    "test_generator = test_datagen.flow_from_directory(\n",
    "    test_data_path,\n",
    "    target_size=(img_height, img_width),\n",
    "    batch_size=batch_size,\n",
    "    class_mode=None,\n",
    "    shuffle=False\n",
    ")\n",
    "\n",
    "predictions = model.predict(test_generator)\n",
    "predicted_classes = np.where(predictions > 0.5, 1, 0)\n",
    "\n",
    "# Save predictions\n",
    "np.savetxt('predictions.csv', predicted_classes, delimiter=',')\n"
   ]
  },
  {
   "cell_type": "code",
   "execution_count": null,
   "id": "06f77787-a286-4d51-a288-d98f9ba4d6ae",
   "metadata": {},
   "outputs": [],
   "source": []
  }
 ],
 "metadata": {
  "kernelspec": {
   "display_name": "Python 3 (ipykernel)",
   "language": "python",
   "name": "python3"
  },
  "language_info": {
   "codemirror_mode": {
    "name": "ipython",
    "version": 3
   },
   "file_extension": ".py",
   "mimetype": "text/x-python",
   "name": "python",
   "nbconvert_exporter": "python",
   "pygments_lexer": "ipython3",
   "version": "3.9.18"
  }
 },
 "nbformat": 4,
 "nbformat_minor": 5
}
